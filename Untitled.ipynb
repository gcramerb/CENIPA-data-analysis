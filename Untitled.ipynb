{
 "cells": [
  {
   "cell_type": "markdown",
   "id": "joint-completion",
   "metadata": {},
   "source": [
    "### Causal Inference:"
   ]
  },
  {
   "cell_type": "code",
   "execution_count": null,
   "id": "rolled-acceptance",
   "metadata": {},
   "outputs": [],
   "source": []
  },
  {
   "cell_type": "code",
   "execution_count": null,
   "id": "simplified-hardware",
   "metadata": {},
   "outputs": [],
   "source": [
    "df_caus = df_new[['aeronave_fatalidades_total','ocorrencia_hora','total_recomendacoes', \n",
    "                  'total_aeronaves_envolvidas',\n",
    "        'ocorrencia_aerodromo','ocorrencia_saida_pista','aeronave_tipo_veiculo',\n",
    "       'ocorrencia_tipo','aeronave_fase_operacao','aeronave_tipo_operacao',\n",
    "       'fator_area','fator_aspecto',\n",
    "                  'idade_aeronave'              ]]\n",
    "target = df_new[['aeronave_fatalidades_total']]\n",
    "#\n",
    "#out: nivel dano, ocorrencia_classificacao, \n"
   ]
  },
  {
   "cell_type": "code",
   "execution_count": null,
   "id": "promising-ordering",
   "metadata": {},
   "outputs": [],
   "source": [
    "from statsmodels.formula.api import ols\n",
    "model = ols('aeronave_fatalidades_total ~ idade_aeronave +\\\n",
    "            C(ocorrencia_tipo) + C(aeronave_tipo_operacao)+\\\n",
    "            C(ocorrencia_saida_pista) + C(aeronave_fase_operacao)+\\\n",
    "            C(fator_aspecto)', data=df_caus)\n",
    "fitted_model = model.fit()\n",
    "fitted_model.summary()"
   ]
  },
  {
   "cell_type": "code",
   "execution_count": null,
   "id": "prepared-prescription",
   "metadata": {},
   "outputs": [],
   "source": [
    "fitted_model.params.sort_values(ascending = False).head(15)\n"
   ]
  },
  {
   "cell_type": "code",
   "execution_count": null,
   "id": "skilled-bleeding",
   "metadata": {},
   "outputs": [],
   "source": []
  }
 ],
 "metadata": {
  "kernelspec": {
   "display_name": "genericEnv",
   "language": "python",
   "name": "torch_v2"
  },
  "language_info": {
   "codemirror_mode": {
    "name": "ipython",
    "version": 3
   },
   "file_extension": ".py",
   "mimetype": "text/x-python",
   "name": "python",
   "nbconvert_exporter": "python",
   "pygments_lexer": "ipython3",
   "version": "3.7.9"
  }
 },
 "nbformat": 4,
 "nbformat_minor": 5
}
